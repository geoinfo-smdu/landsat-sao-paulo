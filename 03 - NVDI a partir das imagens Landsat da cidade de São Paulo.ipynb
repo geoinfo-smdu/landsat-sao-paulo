{
 "cells": [
  {
   "cell_type": "markdown",
   "metadata": {},
   "source": [
    "# NVDI a partir das imagens Landsat da cidade de São Paulo"
   ]
  },
  {
   "cell_type": "code",
   "execution_count": 57,
   "metadata": {},
   "outputs": [],
   "source": [
    "import rasterio\n",
    "from pathlib import Path\n",
    "import numpy as np\n",
    "import os"
   ]
  },
  {
   "cell_type": "code",
   "execution_count": 58,
   "metadata": {},
   "outputs": [
    {
     "name": "stderr",
     "output_type": "stream",
     "text": [
      "<ipython-input-58-3ff1227d1784>:18: RuntimeWarning: invalid value encountered in true_divide\n",
      "  (nir-red)/(nir+red))\n"
     ]
    },
    {
     "name": "stdout",
     "output_type": "stream",
     "text": [
      "NVDI 1985 ...\n",
      "NVDI 1990 ...\n",
      "NVDI 1995 ...\n",
      "NVDI 2000 ...\n",
      "NVDI 2005 ...\n",
      "NVDI 2010 ...\n",
      "NVDI 2015 ...\n",
      "NVDI 2020 ...\n"
     ]
    }
   ],
   "source": [
    "for y in np.arange(1985, 2021, 5):\n",
    "    \n",
    "    if y < 2015:\n",
    "        red_band = 'B3'\n",
    "        nir_band = 'B4'\n",
    "    else:\n",
    "        red_band = 'B4'\n",
    "        nir_band = 'B5'\n",
    "        \n",
    "    dataset_red = rasterio.open(f'resultados/{y}/landsat-sao-paulo-{y}-{red_band}.TIF')\n",
    "    dataset_nir = rasterio.open(f'resultados/{y}/landsat-sao-paulo-{y}-{nir_band}.TIF')\n",
    "    \n",
    "    red = dataset_red.read(1).astype('float64')\n",
    "    nir = dataset_nir.read(1).astype('float64')\n",
    "    \n",
    "    nvdi = np.where((nir+red) == 0.,\n",
    "                    0., \n",
    "                    (nir-red)/(nir+red))\n",
    "    \n",
    "    meta = dataset_red_band.meta\n",
    "    meta.update(dtype='float64')\n",
    "    \n",
    "    with rasterio.open(f'resultados/{y}/NVDI-sao-paulo-{y}.TIF', \"w\", **meta) as dest:\n",
    "        dest.write(nvdi, 1)\n",
    "    \n",
    "    print(f'NVDI {y} ...')"
   ]
  },
  {
   "cell_type": "code",
   "execution_count": null,
   "metadata": {},
   "outputs": [],
   "source": []
  }
 ],
 "metadata": {
  "kernelspec": {
   "display_name": "Python 3",
   "language": "python",
   "name": "python3"
  },
  "language_info": {
   "codemirror_mode": {
    "name": "ipython",
    "version": 3
   },
   "file_extension": ".py",
   "mimetype": "text/x-python",
   "name": "python",
   "nbconvert_exporter": "python",
   "pygments_lexer": "ipython3",
   "version": "3.8.2"
  }
 },
 "nbformat": 4,
 "nbformat_minor": 4
}
